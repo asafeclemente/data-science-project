{
 "cells": [
  {
   "cell_type": "markdown",
   "metadata": {
    "id": "O7b-Dk-FlxVy"
   },
   "source": [
    "Perguntas\n",
    "\n",
    "*   Os atributos \"imutáveis\" (sexo, raça, país de origem...) do trabalhador são menos ou mais determinantes que os demais (como escolaridade) para predizer seu salário?  E para predizer se ele ganha acima de 50 mil dólares anuais?\n",
    "*   De modo semelhante, qual a menor combinação de atributos que melhor prediz o salário de um trabalhador? E que prediz se ele ganha mais de 50 mil dólares anuais?\n",
    "\n",
    "*   Com qual precisão conseguimos prever o salário de um trabalhador, baseado em seus atributos, a partir do dataset selecionado? E baseado apenas nos grupos de atributos das perguntas anteriores?\n",
    "\n",
    "*   Existe algum atributo que é fortemente correlacionado com outros?\n"
   ]
  },
  {
   "cell_type": "code",
   "execution_count": 2,
   "metadata": {
    "id": "1WLF_T79lQwe"
   },
   "outputs": [
    {
     "ename": "ModuleNotFoundError",
     "evalue": "No module named 'sklearn'",
     "output_type": "error",
     "traceback": [
      "\u001b[0;31m---------------------------------------------------------------------------\u001b[0m",
      "\u001b[0;31mModuleNotFoundError\u001b[0m                       Traceback (most recent call last)",
      "\u001b[0;32m/tmp/ipykernel_31405/342092075.py\u001b[0m in \u001b[0;36m<module>\u001b[0;34m\u001b[0m\n\u001b[1;32m      5\u001b[0m \u001b[0;32mimport\u001b[0m \u001b[0mseaborn\u001b[0m \u001b[0;32mas\u001b[0m \u001b[0msns\u001b[0m\u001b[0;34m\u001b[0m\u001b[0;34m\u001b[0m\u001b[0m\n\u001b[1;32m      6\u001b[0m \u001b[0;32mimport\u001b[0m \u001b[0mmath\u001b[0m\u001b[0;34m\u001b[0m\u001b[0;34m\u001b[0m\u001b[0m\n\u001b[0;32m----> 7\u001b[0;31m \u001b[0;32mfrom\u001b[0m \u001b[0msklearn\u001b[0m\u001b[0;34m.\u001b[0m\u001b[0mlinear_model\u001b[0m \u001b[0;32mimport\u001b[0m \u001b[0mLinearRegression\u001b[0m\u001b[0;34m\u001b[0m\u001b[0;34m\u001b[0m\u001b[0m\n\u001b[0m\u001b[1;32m      8\u001b[0m \u001b[0;32mfrom\u001b[0m \u001b[0msklearn\u001b[0m\u001b[0;34m.\u001b[0m\u001b[0mmodel_selection\u001b[0m \u001b[0;32mimport\u001b[0m \u001b[0mtrain_test_split\u001b[0m\u001b[0;34m\u001b[0m\u001b[0;34m\u001b[0m\u001b[0m\n\u001b[1;32m      9\u001b[0m \u001b[0;32mfrom\u001b[0m \u001b[0msklearn\u001b[0m\u001b[0;34m.\u001b[0m\u001b[0mmetrics\u001b[0m \u001b[0;32mimport\u001b[0m \u001b[0mmean_squared_error\u001b[0m\u001b[0;34m,\u001b[0m \u001b[0mr2_score\u001b[0m\u001b[0;34m\u001b[0m\u001b[0;34m\u001b[0m\u001b[0m\n",
      "\u001b[0;31mModuleNotFoundError\u001b[0m: No module named 'sklearn'"
     ]
    }
   ],
   "source": [
    "import matplotlib.pyplot as plt\n",
    "import numpy as np\n",
    "import pandas as pd\n",
    "import matplotlib\n",
    "import seaborn as sns\n",
    "import math\n",
    "from sklearn.linear_model import LinearRegression\n",
    "from sklearn.model_selection import train_test_split\n",
    "from sklearn.metrics import mean_squared_error, r2_score\n",
    "import matplotlib.pyplot as plt\n",
    "\n",
    "plt.style.use('seaborn-colorblind')\n",
    "\n",
    "plt.rcParams['figure.figsize']  = (12, 18)\n",
    "plt.rcParams['axes.labelsize']  = 20\n",
    "plt.rcParams['axes.titlesize']  = 20\n",
    "plt.rcParams['legend.fontsize'] = 20\n",
    "plt.rcParams['xtick.labelsize'] = 20\n",
    "plt.rcParams['ytick.labelsize'] = 20\n",
    "plt.rcParams['lines.linewidth'] = 4\n",
    "plt.ion()"
   ]
  },
  {
   "cell_type": "code",
   "execution_count": null,
   "metadata": {
    "colab": {
     "base_uri": "https://localhost:8080/",
     "height": 391
    },
    "id": "BCZPOrDbnea_",
    "outputId": "b2a05332-b898-42a7-b1c8-c1b29a40782d"
   },
   "outputs": [],
   "source": [
    "# Load datasets\n",
    "dataset = pd.read_csv('adult_data.csv')\n",
    "dataset_2 = pd.read_csv('adult_test.csv')"
   ]
  },
  {
   "cell_type": "code",
   "execution_count": null,
   "metadata": {
    "id": "-Eyl_sforTfC"
   },
   "outputs": [],
   "source": [
    "# Arrumando o nome das colunas\n",
    "\n",
    "dataset.columns\n",
    "\n",
    "column_new_names = {}\n",
    "for c in dataset.columns[1:]:\n",
    "    column_new_names[c] = c.split(' ')[1].replace('-', '_')\n",
    "    \n",
    "dataset_2 = dataset.rename(columns=column_new_names)\n",
    "dataset = dataset.rename(columns=column_new_names)\n",
    "dataset.head(10)"
   ]
  },
  {
   "cell_type": "code",
   "execution_count": null,
   "metadata": {
    "id": "7MffQdRK06uz"
   },
   "outputs": [],
   "source": [
    "\n",
    "# Quantidade de pessoas com salário alto e baixo\n",
    "pd.DataFrame({'count': dataset.salary.value_counts(), '%': dataset.salary.value_counts(normalize = True)})\n"
   ]
  },
  {
   "cell_type": "markdown",
   "metadata": {
    "id": "OG3UdkFkblVc"
   },
   "source": [
    "# Education"
   ]
  },
  {
   "cell_type": "markdown",
   "metadata": {
    "id": "ICvdhI2JcyAK"
   },
   "source": [
    "## Distribuição"
   ]
  },
  {
   "cell_type": "code",
   "execution_count": null,
   "metadata": {
    "id": "rStEDiwtxkc1"
   },
   "outputs": [],
   "source": [
    "#Plot da Escolaridade\n",
    "column_name = 'education'\n",
    "\n",
    "new_dataset = dataset.groupby([column_name,'sex'])[\"age\"].count().reset_index(name=\"count\")\n",
    "all_marital_status = new_dataset[column_name].unique()\n",
    "\n",
    "b_width = 0.43\n",
    "\n",
    "men = list()\n",
    "women = list()\n",
    "for item in new_dataset.itertuples():\n",
    "    if item[2] == \" Male\":\n",
    "        men.append(item[3])\n",
    "    else:\n",
    "        women.append(item[3])\n",
    "\n",
    "br1 = np.arange(len(men))\n",
    "br2 = [x + b_width for x in br1]\n",
    "fig = plt.subplots(figsize=(25,20))\n",
    "\n",
    "bar1 = plt.bar(br1, men, color ='b', width = b_width,\n",
    "        edgecolor ='grey', label ='Homens')\n",
    "bar2 = plt.bar(br2, women, color ='pink', width = b_width,\n",
    "        edgecolor ='grey', label ='Mulheres')\n",
    "bar_list = [bar1, bar2]\n",
    "\n",
    "plt.xlabel('Número de Escolaridade', fontweight ='bold', fontsize = 15)\n",
    "plt.ylabel('Quantidade', fontweight ='bold', fontsize = 15)\n",
    "\n",
    "plt.xticks([r + b_width/2 for r in range(len(men))], all_marital_status, fontsize=10, ha=\"center\")\n",
    "for bars in bar_list:\n",
    "    for bar in bars:\n",
    "        yval = bar.get_height()\n",
    "        plt.text(bar.get_x()+ 0.07, yval + .05, yval, fontsize=12, color=\"red\", ha=\"left\")\n",
    "plt.legend()"
   ]
  },
  {
   "cell_type": "markdown",
   "metadata": {
    "id": "NCjxBvi9cpCO"
   },
   "source": [
    "## Comparação"
   ]
  },
  {
   "cell_type": "code",
   "execution_count": null,
   "metadata": {
    "id": "6OjxN4KAbqmO"
   },
   "outputs": [],
   "source": [
    "# Education-num\n",
    "\n",
    "column_name = 'education'\n",
    "secondary = 'education_num'\n",
    "#Prepara o dataset\n",
    "new_dataset = dataset.groupby([column_name,secondary , 'salary'])[\"education_num\"].count().reset_index(name=\"count\")\n",
    "# all_educations = new_dataset[column_name].unique()\n",
    "\n",
    "# print(new_dataset)\n",
    "\n",
    "# Guarda relação nome - número\n",
    "educations = dict(zip(new_dataset['education'], new_dataset['education_num']))\n",
    "print(educations)\n",
    "\n",
    "all_educations = list()\n",
    "for i in sorted(educations, key = educations.get):\n",
    "    all_educations.append(i)\n",
    "\n",
    "\n",
    "key_list = all_educations\n",
    "value_list = np.zeros(len(all_educations))\n",
    "\n",
    "education_less_dict = dict(zip(key_list, value_list))\n",
    "education_more_dict = dict(zip(key_list, value_list))\n",
    "education_all_dict = dict(zip(key_list, value_list))\n",
    "\n",
    "# display (new_dataset)\n",
    "\n",
    "for item in new_dataset.itertuples():\n",
    "    if item[3] == \" <=50K\":\n",
    "        education_less_dict[item[1]] = item[4]\n",
    "    else:\n",
    "        education_more_dict[item[1]] = item[4]\n",
    "    education_all_dict[item[1]] = education_all_dict[item[1]] + item[4]\n",
    "\n",
    "#print(education_less_dict)\n",
    "#print(education_more_dict)\n",
    "\n",
    "# Calcular fração\n",
    "fraction_less = dict(zip(key_list, value_list))\n",
    "fraction_more = dict(zip(key_list, value_list))\n",
    "for key in education_all_dict:\n",
    "    fraction_less[key] = (education_less_dict[key] / education_all_dict[key])*100\n",
    "    fraction_more[key] = (education_more_dict[key] / education_all_dict[key])*100\n",
    "\n",
    "#print(fraction_less)\n",
    "#print(fraction_more)\n",
    "\n",
    "#Configura a quantidade de barras e o posicionamento das mesmas.\n",
    "\n",
    "b_width = 0.35\n",
    "br1 = np.arange(len(fraction_less.values()))\n",
    "br2 = [x + b_width for x in br1]\n",
    "\n",
    "fig = plt.subplots(figsize=(25,10))\n",
    "\n",
    "#Cria as barras.\n",
    "bar1 = plt.bar(br1, fraction_less.values(), color ='orange', width = b_width,\n",
    "        edgecolor ='grey', label ='Porcentagem com <=50k')\n",
    "bar2 = plt.bar(br2, fraction_more.values(), color ='blue', width = b_width,\n",
    "        edgecolor ='grey', label ='Porcentagem com >50k')\n",
    "bar_list = [bar1, bar2]\n",
    "\n",
    "#Nomeia os eixos.\n",
    "plt.xlabel('Education', fontweight ='bold', fontsize = 15) #Lembrar de trocar o xlabel se for usar <<<\n",
    "plt.ylabel('Percentage', fontweight ='bold', fontsize = 15)\n",
    "\n",
    "#Coloca todas as categorias no eixo X\n",
    "plt.xticks([r + b_width/2 for r in range(len(fraction_less.values()))], all_educations, fontsize=10, ha=\"center\")\n",
    "plt.yticks(np.arange(0, 102, 2),fontsize=12)\n",
    "plt.legend()"
   ]
  },
  {
   "cell_type": "code",
   "execution_count": null,
   "metadata": {
    "id": "3zZAHhUqyGdK"
   },
   "outputs": [],
   "source": [
    "dataset.head(3)"
   ]
  },
  {
   "cell_type": "code",
   "execution_count": null,
   "metadata": {
    "id": "LuKg_PncFGQ-"
   },
   "outputs": [],
   "source": [
    "# Quantidade de pessoas com salário alto e baixo\n",
    "pd.DataFrame({'count': dataset.salary.value_counts(), '%': dataset.salary.value_counts(normalize = True)})"
   ]
  },
  {
   "cell_type": "markdown",
   "metadata": {
    "id": "_xw_1nDBEECz"
   },
   "source": [
    "##Qual é a probabilidade (chance) de que ao acaso 73% dos individos com doutorado ganhem mais de 50K."
   ]
  },
  {
   "cell_type": "markdown",
   "metadata": {
    "id": "yn81Jf_mzjsz"
   },
   "source": [
    "valores observado: \n",
    "\n",
    "                Doctorate:  25.907990314769975 <=50k\n",
    "                            74.09200968523002 >50k\n"
   ]
  },
  {
   "cell_type": "code",
   "execution_count": null,
   "metadata": {
    "id": "NPVEeep1yMrI"
   },
   "outputs": [],
   "source": [
    "plt.rcParams['figure.figsize']  = (16, 10)\n",
    "plt.ion()\n",
    "\n",
    "def despine(ax=None):\n",
    "    if ax is None:\n",
    "        ax = plt.gca()\n",
    "    # Hide the right and top spines\n",
    "    ax.spines['right'].set_visible(False)\n",
    "    ax.spines['top'].set_visible(False)\n",
    "\n",
    "    # Only show ticks on the left and bottom spines\n",
    "    ax.yaxis.set_ticks_position('left')\n",
    "    ax.xaxis.set_ticks_position('bottom')\n",
    "\n",
    "def sample_proportion100(pop_size, prop, n=10000):\n",
    "    '''\n",
    "    Amostra proporções de uma população.\n",
    "    \n",
    "    Parâmetros\n",
    "    ----------\n",
    "    pop_size: int, tamanho da população\n",
    "    prop: double, entre 0 e 1\n",
    "    n: int, número de amostras\n",
    "    '''\n",
    "    assert(prop >= 0)\n",
    "    assert(prop <= 1)\n",
    "    \n",
    "    grupo = pop_size * prop\n",
    "    # print(grupo)\n",
    "    resultados = np.zeros(n)\n",
    "    for i in range(n):\n",
    "        sample = np.random.randint(0, pop_size, 100)\n",
    "        resultados[i] = np.sum(sample < grupo)\n",
    "    return resultados\n"
   ]
  },
  {
   "cell_type": "code",
   "execution_count": null,
   "metadata": {
    "id": "olCEetdlbGKz"
   },
   "outputs": [],
   "source": [
    "proporcoes = sample_proportion100(pop_size=32561, prop=0.24081)\n",
    "print(proporcoes.shape)\n",
    "bins = np.linspace(1, 100, 100) + 0.5\n",
    "plt.hist(proporcoes, bins=bins, edgecolor='k')\n",
    "plt.xlim(0, 80)\n",
    "plt.ylabel('Numero de Amostras')\n",
    "plt.xlabel('Porcentagem no grupo')\n",
    "despine()\n",
    "for item in fraction_more.values():\n",
    "    plt.plot([item], [8], 'go', ms=10)\n",
    "plt.plot([74.09], [8], 'ro', ms=10)\n",
    "# print(proporcoes)\n",
    "sample = np.random.randint(0, 32561, 10) # pega 10 inteiros entre 0 e pop_size\n",
    "print(sample)\n",
    "print(np.sum(sample < 32561*0.24081)) # ve quantos deles são menores que o esperado"
   ]
  },
  {
   "cell_type": "code",
   "execution_count": null,
   "metadata": {
    "id": "xphIuy-JQBXX"
   },
   "outputs": [],
   "source": [
    "np.percentile(proporcoes, 95)"
   ]
  },
  {
   "cell_type": "markdown",
   "metadata": {
    "id": "1svUDcu7QCY3"
   },
   "source": [
    "Com 95% de chance, no máximo 31% do grupo teria renda maior que 50K. Então, no caso de pessoas com doutorado, que o número foi 74.09, podemos concluir que ele raramente ocorrreria em uma seleção uniforme."
   ]
  },
  {
   "cell_type": "code",
   "execution_count": null,
   "metadata": {
    "id": "pBVvl0_Ghyw0"
   },
   "outputs": [],
   "source": [
    "# print(education_less_dict)\n",
    "# print(education_all_dict)\n",
    "# print(education_more_dict)\n",
    " \n",
    "def sample_proportion1000(pop_size, prop, n=10000):\n",
    "    '''\n",
    "    Amostra proporções de uma população.\n",
    "    \n",
    "    Parâmetros\n",
    "    ----------\n",
    "    pop_size: int, tamanho da população\n",
    "    prop: double, entre 0 e 1\n",
    "    n: int, número de amostras\n",
    "    '''\n",
    "    assert(prop >= 0)\n",
    "    assert(prop <= 1)\n",
    "    \n",
    "    grupo = pop_size * prop\n",
    "    print(\"Grupo: \",grupo)\n",
    "    resultados = np.zeros(n)\n",
    "    for i in range(n):\n",
    "        sample = np.random.randint(0, pop_size, 1000) # pega quantos em 1000 já que mem 100 não capturava bem\n",
    "        resultados[i] = np.sum(sample < grupo)\n",
    "    return resultados\n",
    "\n",
    "prop_doct_all = education_more_dict[' Doctorate']/32561\n",
    "prop_doct_more = education_all_dict[' Doctorate']/7841\t\n",
    "print(\"Número com doc na pop com >50k:\", education_more_dict[' Doctorate'],\" Número com doc na pop total:\" ,education_all_dict[' Doctorate'])\n",
    "print(prop_doct_all,prop_doct_more)\n",
    "\n",
    "proporcoes = sample_proportion1000(pop_size=10000000, prop=prop_doct_all)\n",
    "# print(proporcoes.shape)\n",
    "bins = np.linspace(1, 100, 100) + 0.5\n",
    "plt.hist(proporcoes, bins=bins, edgecolor='k')\n",
    "plt.xlim(0, 55)\n",
    "plt.ylabel('Numero de Amostras')\n",
    "plt.xlabel('%% no grupo')\n",
    "despine()\n",
    "plt.plot(prop_doct_more*1000, [10], 'ro', ms=10)\n",
    "print(prop_doct_more*1000)"
   ]
  },
  {
   "cell_type": "markdown",
   "metadata": {
    "id": "CWlORmQHFX6u"
   },
   "source": [
    "Com 95% de chance, apenas 0,015% no grupo que ganha mais  de 50K teria doutorado. Então, como o número foi 0,0167%, podemos concluir que isso raramente ocorrreria em uma distribuição uniforme."
   ]
  },
  {
   "cell_type": "code",
   "execution_count": null,
   "metadata": {
    "id": "jtfo0y9xyj11"
   },
   "outputs": [],
   "source": [
    "np.percentile(proporcoes, 95)"
   ]
  },
  {
   "cell_type": "markdown",
   "metadata": {
    "id": "qTvygAYMbpXH"
   },
   "source": [
    "Em um outro caso em que temos diferentes níveis de educação, podemos computar a total variation distance e fazer outra pergunta."
   ]
  },
  {
   "cell_type": "markdown",
   "metadata": {
    "id": "tSURwW1asjQ6"
   },
   "source": [
    "##Será que a distribuição da educação no grupo que ganha mais de 50k pode ser explicada ao acaso?"
   ]
  },
  {
   "cell_type": "code",
   "execution_count": null,
   "metadata": {
    "id": "LnvUU9hR0i6D"
   },
   "outputs": [],
   "source": [
    "def total_variation(p, q):\n",
    "    '''\n",
    "    Computa a total variation distance com base em dois vetore, p e q\n",
    "    \n",
    "    Parâmetros\n",
    "    ----------\n",
    "    p: vetor de probabilidades de tamanho n\n",
    "    q: vetor de probabilidades de tamanho n\n",
    "    '''\n",
    "    return np.sum(np.abs(p - q)) / 2"
   ]
  },
  {
   "cell_type": "code",
   "execution_count": null,
   "metadata": {
    "id": "ggpYPScIn9Wg"
   },
   "outputs": [],
   "source": [
    "prop_doct_all = education_more_dict[' Doctorate']/32561\n",
    "prop_doct_more = education_all_dict[' Doctorate']/7841\t\n",
    "# print(\"Número com doc na pop com >50k:\", education_more_dict[' Doctorate'],\" Número com doc na pop total:\" ,education_all_dict[' Doctorate'])\n",
    "# print(prop_doct_all,prop_doct_more)\n",
    "\n",
    "idx = list()\n",
    "for i in education_all_dict.keys():\n",
    "    idx.append(i)\n",
    "print(idx)\n",
    "df = pd.DataFrame(index=idx)\n",
    "\n",
    "\n",
    "prop_pop_all = list()\n",
    "for i in education_all_dict.values():\n",
    "    prop_pop_all.append(i/32561)\n",
    "\n",
    "df['sample'] = prop_pop_all\n",
    "\n",
    "# Na amostra de mais de 50K\n",
    "prop_pop_more = list()\n",
    "for i in education_more_dict.values():\n",
    "    prop_pop_more.append(i/7841)\n",
    "\n",
    "df['pop'] = prop_pop_more\n",
    "\n",
    "\n",
    "N = 1453\n",
    "uma_amostra = []\n",
    "for g in df.index:\n",
    "    p = df.loc[g]['pop']\n",
    "    s = sample_proportion100(N, p, 1)[0]\n",
    "    uma_amostra.append(s/100)\n",
    "\n",
    "\n",
    "df['1random'] = uma_amostra\n",
    "df.plot.bar()\n",
    "plt.ylabel('Propopção')\n",
    "plt.ylabel('Grupo')\n",
    "despine()"
   ]
  },
  {
   "cell_type": "code",
   "execution_count": null,
   "metadata": {
    "id": "BVyepaGQ2GYn"
   },
   "outputs": [],
   "source": [
    "total_variation(df['1random'], df['pop'])"
   ]
  },
  {
   "cell_type": "code",
   "execution_count": null,
   "metadata": {
    "id": "IFNUai0Q2O0Q"
   },
   "outputs": [],
   "source": [
    "total_variation(df['sample'], df['pop'])"
   ]
  },
  {
   "cell_type": "code",
   "execution_count": null,
   "metadata": {
    "id": "WvuHyt9S2PGq"
   },
   "outputs": [],
   "source": [
    "N = 30000\n",
    "A = np.zeros(shape=(10000, len(df.index)))\n",
    "for i, g in enumerate(df.index):\n",
    "    p = df.loc[g]['pop']\n",
    "    A[:, i] = sample_proportion100(N, p) / 100"
   ]
  },
  {
   "cell_type": "code",
   "execution_count": null,
   "metadata": {
    "id": "X8-t_HO024Uw"
   },
   "outputs": [],
   "source": [
    "all_distances = []\n",
    "for i in range(A.shape[0]):\n",
    "    all_distances.append(total_variation(df['pop'], A[i])) # total_variation entra a população e "
   ]
  },
  {
   "cell_type": "code",
   "execution_count": null,
   "metadata": {
    "id": "-1UD9e6F3Igh"
   },
   "outputs": [],
   "source": [
    "plt.hist(all_distances, bins=30, edgecolor='k')\n",
    "plt.ylabel('Numero de Amostras de Tamanho 10k')\n",
    "plt.xlabel('Total Variation Distance')\n",
    "plt.plot([0.255407051893586], [0], 'ro', ms=15)\n",
    "despine()"
   ]
  },
  {
   "cell_type": "markdown",
   "metadata": {
    "id": "YBiVJbsHr-jw"
   },
   "source": [
    "Como histograma da TVD vemos no ponto vermelho mostra o valor no grupo que ganha mais de 50k, as barras mostram as diferentes amostras. Novamente como o valor é bastante. Rejeitamos a hipótese nula e indicamos que os dados não foram selecionados de forma uniforme."
   ]
  },
  {
   "cell_type": "code",
   "execution_count": null,
   "metadata": {
    "id": "O6lOVOuK3MKY"
   },
   "outputs": [],
   "source": [
    "np.percentile(all_distances, 97.5)"
   ]
  },
  {
   "cell_type": "markdown",
   "metadata": {
    "id": "AedGvoQmggAL"
   },
   "source": [
    "Testes de permutação -- Queremos demonstrar se o fato de um gênero ganhar mais que outro pode ou não ser justificado pelo acaso.\n",
    "\n",
    "Assuma uma significância de 5%\n"
   ]
  },
  {
   "cell_type": "code",
   "execution_count": null,
   "metadata": {
    "id": "7rdiGNv9gZii"
   },
   "outputs": [],
   "source": [
    "def permutation_test(df, sig, rep_num, col, attribute):\n",
    "  \"\"\"\n",
    "  Parâmetros:\n",
    "  ------------\n",
    "  df: Dataframe utilizado para realizar o teste de permutação.\n",
    "  sig: Valor da significância.\n",
    "  rep_num: Quantidade de repetições do experimento.\n",
    "  col: Coluna alvo do DF para ser realizada o teste de permutação.\n",
    "  attribute: Valor da coluna alvo para a permutação ser realizada.\n",
    " \n",
    "  Retornos:\n",
    "  ------------\n",
    "  diffs: Vetor que contém a diferença dos valores analisados.\n",
    "  LI: Ponto crítico inferior.\n",
    "  LS: Ponto crítico superior.\n",
    " \n",
    "  \"\"\"\n",
    "  \n",
    "  N = rep_num\n",
    "  filtro = df[col] == attribute\n",
    "  diffs = np.zeros(N)\n",
    "  sig = sig/2\n",
    "  for i in range(N):\n",
    "    np.random.shuffle(filtro.values)\n",
    "    #df['filtro'] = np.random.permutation(df.filtro)\n",
    "    #men = df.loc[((df['salary'] == \" <=50K\") & (df['filtro'] == 1))].shape[0]\n",
    "    #women = df.loc[((df['salary'] == \" <=50K\") & (df['filtro'] == 0))].shape[0]\n",
    "    diffs[i] = df.loc[df['salary'] == ' <=50K'][filtro].shape[0] - df.loc[df['salary'] == ' <=50K'][~filtro].shape[0]\n",
    "    #diffs[i] = df[df.salary == ' <=50K'][df.filtro == 1].count().iloc[0] - \\\n",
    "    #df[df.salary == ' <=50K']['df.filtro == 0'].count().iloc[0]\n",
    "  LI = np.percentile(diffs, sig)\n",
    "  LS = np.percentile(diffs, 100-sig)\n",
    "  \n",
    "  return diffs, LI, LS"
   ]
  },
  {
   "cell_type": "code",
   "execution_count": null,
   "metadata": {
    "id": "hiArFd5vyvfL"
   },
   "outputs": [],
   "source": [
    "sigma = 5\n",
    "rep_num = 5000\n",
    "column= \"sex\"\n",
    "at = \" Male\"\n",
    "difference_vector, LI,LS = permutation_test(dataset, sigma, rep_num,column,at)\n"
   ]
  },
  {
   "cell_type": "code",
   "execution_count": null,
   "metadata": {
    "id": "v2Sn5w_d-dWh"
   },
   "outputs": [],
   "source": [
    "ab = dataset.query('salary == \" <=50K\"')\n",
    "male = ab[ab.sex == ' Male'].count().iloc[0]\n",
    "female = ab[ab.sex == ' Female'].count().iloc[0]\n",
    "sample_difference = male-female\n",
    " \n",
    " \n",
    "plt.hist(difference_vector, bins=30, edgecolor='k')\n",
    "plt.ylabel('Quantidade')\n",
    "plt.xlabel('Diferença entre o número de Homens e Mulheres que ganham abaixo de 50K Dol')\n",
    "plt.plot(sample_difference, [0], 'ro', ms=15)\n",
    "#Usando np.permutation\n"
   ]
  },
  {
   "cell_type": "code",
   "execution_count": null,
   "metadata": {
    "id": "reVX1uaIhegx"
   },
   "outputs": [],
   "source": [
    "ab = dataset.query('salary == \" <=50K\"')\n",
    "male = ab[ab.sex == ' Male'].count().iloc[0]\n",
    "female = ab[ab.sex == ' Female'].count().iloc[0]\n",
    "sample_difference = male-female\n",
    " \n",
    " \n",
    "plt.hist(difference_vector, bins=30, edgecolor='k')\n",
    "plt.ylabel('Quantidade')\n",
    "plt.xlabel('Diferença entre o número de Homens e Mulheres que ganham abaixo de 50K Dol')\n",
    "plt.plot(sample_difference, [0], 'ro', ms=15)\n",
    "#Usando np.shuffle"
   ]
  },
  {
   "cell_type": "code",
   "execution_count": null,
   "metadata": {
    "id": "lHA2-_6KIIEU"
   },
   "outputs": [],
   "source": [
    "sigma = 5\n",
    "rep_num = 5000\n",
    "column= \"marital_status\"\n",
    "\n",
    "target_values = [' Divorced', ' Married-civ-spouse']\n",
    "df = dataset.query(\"marital_status == ' Never-married' or marital_status == ' Married-civ-spouse'\")\n",
    "\n",
    "\n",
    "#new_dataset = dataset.loc[(dataset['marital_status'].isin(target_values))]\n",
    "at = \" Married-civ-spouse\"\n",
    "diff1, li1,ls1 = permutation_test(df, sigma, rep_num,column,at)\n",
    "\n"
   ]
  },
  {
   "cell_type": "code",
   "execution_count": null,
   "metadata": {
    "id": "BVZxpVmHPbwP"
   },
   "outputs": [],
   "source": [
    "ab = dataset.query('salary == \" <=50K\"')\n",
    "nm = ab[ab.marital_status == ' Married-civ-spouse'].count().iloc[0]\n",
    "mcs = ab[ab.marital_status == ' Never-Married'].count().iloc[0]\n",
    "sample_difference = nm-mcs\n",
    " \n",
    "plt.hist(diff1, bins=10, edgecolor='k')\n",
    "plt.ylabel('Quantidade')\n",
    "plt.xlabel('Diferença entre o número de Casados e Não Casados que ganham abaixo de 50K Dol')\n",
    "plt.plot(sample_difference, [0], 'ro', ms=15)\n"
   ]
  },
  {
   "cell_type": "markdown",
   "metadata": {
    "id": "xUWlR_raDSdq"
   },
   "source": [
    "# Regressões"
   ]
  },
  {
   "cell_type": "markdown",
   "metadata": {
    "id": "GFpOIMSqDgTX"
   },
   "source": [
    "##Regressão Linear"
   ]
  },
  {
   "cell_type": "markdown",
   "metadata": {
    "id": "G061qwSBDcS4"
   },
   "source": [
    "##Regressão Múltipla"
   ]
  },
  {
   "cell_type": "code",
   "execution_count": null,
   "metadata": {
    "id": "4M_tXNy_4Tt1"
   },
   "outputs": [],
   "source": [
    "df = dataset.copy()\n",
    "df = df.replace('?', np.nan)\n",
    "df = df.dropna()\n",
    "\n",
    "df = df.drop(['fnlwgt','workclass','education','marital_status','occupation','relationship','race','sex','native_country','salary'], axis=1)\n",
    "X = df.drop('age', axis=1)\n",
    "y = df[['age']]\n",
    "\n",
    "X_train, X_test, y_train, y_test = train_test_split(X, y, test_size=0.2, random_state=1)\n",
    "\n",
    "reg = LinearRegression()\n",
    "reg.fit(X_train[['hours_per_week','education_num','capital_gain','capital_loss']], y_train)\n",
    "y_predicted = reg.predict(X_test[['hours_per_week','education_num','capital_gain','capital_loss']])\n",
    "print(\"Mean squared error: %.2f\" % mean_squared_error(y_test, y_predicted))\n",
    "print('R²: %.2f' % r2_score(y_test, y_predicted))\n",
    "\n",
    "fig, ax = plt.subplots()\n",
    "ax.scatter(y_test, y_predicted)\n",
    "ax.plot([y_test.min(), y_test.max()], [y_test.min(), y_test.max()], 'k--', lw=4)\n",
    "ax.set_xlabel('measured')\n",
    "ax.set_ylabel('predicted')\n",
    "plt.show()"
   ]
  },
  {
   "cell_type": "code",
   "execution_count": null,
   "metadata": {
    "id": "eXt_4rpE2fCX"
   },
   "outputs": [],
   "source": [
    "import statsmodels.api as sm\n",
    "import statsmodels.formula.api as smf\n",
    "\n",
    "data = dataset.drop(columns=['fnlwgt', 'education'])\n",
    "data = data.replace('?', np.nan)\n",
    "data = data.dropna()\n",
    "data['capital'] = data['capital_gain'] - data['capital_loss']\n",
    "data = data.drop(columns=['capital_gain', 'capital_loss'])\n",
    "\n",
    "categoricalColumns = data.columns[data.dtypes==object].tolist()\n",
    "\n",
    "for col in categoricalColumns:\n",
    "    data[col] = data[col].str.strip()\n",
    "\n",
    "for col in categoricalColumns:\n",
    "    data[col] = data[col].str.replace('-', '_')\n",
    "\n",
    "data.loc[data['native_country'] != 'United_States', 'native_country'] = 'Other'\n",
    "data.loc[data['race'] != 'White', 'race'] = 'Other'\n",
    "data['salary'] = data['salary'].str.replace('<=50K', 'low')\n",
    "data['salary'] = data['salary'].str.replace('>50K', 'high')\n",
    "\n",
    "print(data.dtypes)\n",
    "print(data)\n",
    "\n",
    "data.head()\n",
    "\n",
    "formula_string_indep_vars = ' + '.join(dataset.drop(columns='hours_per_week').columns)\n",
    "formula_string = 'hours_per_week ~ ' + formula_string_indep_vars\n",
    "print('formula_string: ', formula_string)\n",
    "\n",
    "data_encoded = pd.get_dummies(data, drop_first=True)\n",
    "\n",
    "formula_string_indep_vars_encoded = ' + '.join(data_encoded.drop(columns='hours_per_week').columns)\n",
    "formula_string_encoded = 'hours_per_week ~ ' + formula_string_indep_vars_encoded\n",
    "print('formula_string_encoded: ', formula_string_encoded)\n",
    "\n",
    "#formula_string_encoded = formula_string_encoded + ' + hours_per_week:capital + race_White:capital'\n",
    "\n",
    "#formula_string_encoded = formula_string_encoded + ' + np.power(hours_per_week, 1)'\n",
    "\n",
    "model_full = sm.formula.ols(formula=formula_string_encoded, data=data_encoded)\n",
    "\n",
    "model_full_fitted = model_full.fit()\n",
    "\n",
    "print(model_full_fitted.summary())\n",
    "\n",
    "residuals_full = pd.DataFrame({'actual': data_encoded['hours_per_week'], \n",
    "                            'predicted': model_full_fitted.fittedvalues, \n",
    "                            'residual': model_full_fitted.resid})\n",
    "\n",
    "def plot_line(axis, slope, intercept, **kargs):\n",
    "    xmin, xmax = axis.get_xlim()\n",
    "    plt.plot([xmin, xmax], [xmin*slope+intercept, xmax*slope+intercept], **kargs)\n",
    "    \n",
    "# Creating scatter plot\n",
    "plt.scatter(residuals_full['actual'], residuals_full['predicted'], alpha=0.3);\n",
    "plot_line(axis=plt.gca(), slope=1, intercept=0, c=\"red\");\n",
    "plt.xlabel('Actual hours_per_week');\n",
    "plt.ylabel('Predicted Age');\n",
    "plt.title('Figure 9: Scatter plot of actual vs. predicted age for the Full Model', fontsize=15);\n",
    "plt.show();"
   ]
  },
  {
   "cell_type": "code",
   "execution_count": null,
   "metadata": {},
   "outputs": [],
   "source": [
    "from imblearn.under_sampling import RandomUnderSampler\n",
    "\n",
    "def balance_data (X, y,random_state=42):\n",
    "\n",
    "    rus = RandomUnderSampler(random_state=random_state)\n",
    "    X, y = rus.fit_resample(X, y)\n",
    "\n",
    "    return X, y"
   ]
  },
  {
   "cell_type": "markdown",
   "metadata": {
    "id": "exBvTPdkDZ-L"
   },
   "source": [
    "##Pipeline Machine Learning"
   ]
  },
  {
   "cell_type": "code",
   "execution_count": null,
   "metadata": {
    "id": "lARfREDSFzra"
   },
   "outputs": [
    {
     "data": {
      "text/html": [
       "<div>\n",
       "<style scoped>\n",
       "    .dataframe tbody tr th:only-of-type {\n",
       "        vertical-align: middle;\n",
       "    }\n",
       "\n",
       "    .dataframe tbody tr th {\n",
       "        vertical-align: top;\n",
       "    }\n",
       "\n",
       "    .dataframe thead th {\n",
       "        text-align: right;\n",
       "    }\n",
       "</style>\n",
       "<table border=\"1\" class=\"dataframe\">\n",
       "  <thead>\n",
       "    <tr style=\"text-align: right;\">\n",
       "      <th></th>\n",
       "      <th>age</th>\n",
       "      <th>workclass</th>\n",
       "      <th>fnlwgt</th>\n",
       "      <th>education</th>\n",
       "      <th>education_num</th>\n",
       "      <th>marital_status</th>\n",
       "      <th>occupation</th>\n",
       "      <th>relationship</th>\n",
       "      <th>race</th>\n",
       "      <th>sex</th>\n",
       "      <th>capital_gain</th>\n",
       "      <th>capital_loss</th>\n",
       "      <th>hours_per_week</th>\n",
       "      <th>native_country</th>\n",
       "      <th>salary</th>\n",
       "    </tr>\n",
       "  </thead>\n",
       "  <tbody>\n",
       "    <tr>\n",
       "      <th>0</th>\n",
       "      <td>39</td>\n",
       "      <td>State-gov</td>\n",
       "      <td>77516</td>\n",
       "      <td>Bachelors</td>\n",
       "      <td>13</td>\n",
       "      <td>Never-married</td>\n",
       "      <td>Adm-clerical</td>\n",
       "      <td>Not-in-family</td>\n",
       "      <td>White</td>\n",
       "      <td>Male</td>\n",
       "      <td>2174</td>\n",
       "      <td>0</td>\n",
       "      <td>40</td>\n",
       "      <td>United-States</td>\n",
       "      <td>&lt;=50K</td>\n",
       "    </tr>\n",
       "    <tr>\n",
       "      <th>1</th>\n",
       "      <td>50</td>\n",
       "      <td>Self-emp-not-inc</td>\n",
       "      <td>83311</td>\n",
       "      <td>Bachelors</td>\n",
       "      <td>13</td>\n",
       "      <td>Married-civ-spouse</td>\n",
       "      <td>Exec-managerial</td>\n",
       "      <td>Husband</td>\n",
       "      <td>White</td>\n",
       "      <td>Male</td>\n",
       "      <td>0</td>\n",
       "      <td>0</td>\n",
       "      <td>13</td>\n",
       "      <td>United-States</td>\n",
       "      <td>&lt;=50K</td>\n",
       "    </tr>\n",
       "    <tr>\n",
       "      <th>2</th>\n",
       "      <td>38</td>\n",
       "      <td>Private</td>\n",
       "      <td>215646</td>\n",
       "      <td>HS-grad</td>\n",
       "      <td>9</td>\n",
       "      <td>Divorced</td>\n",
       "      <td>Handlers-cleaners</td>\n",
       "      <td>Not-in-family</td>\n",
       "      <td>White</td>\n",
       "      <td>Male</td>\n",
       "      <td>0</td>\n",
       "      <td>0</td>\n",
       "      <td>40</td>\n",
       "      <td>United-States</td>\n",
       "      <td>&lt;=50K</td>\n",
       "    </tr>\n",
       "    <tr>\n",
       "      <th>3</th>\n",
       "      <td>53</td>\n",
       "      <td>Private</td>\n",
       "      <td>234721</td>\n",
       "      <td>11th</td>\n",
       "      <td>7</td>\n",
       "      <td>Married-civ-spouse</td>\n",
       "      <td>Handlers-cleaners</td>\n",
       "      <td>Husband</td>\n",
       "      <td>Black</td>\n",
       "      <td>Male</td>\n",
       "      <td>0</td>\n",
       "      <td>0</td>\n",
       "      <td>40</td>\n",
       "      <td>United-States</td>\n",
       "      <td>&lt;=50K</td>\n",
       "    </tr>\n",
       "    <tr>\n",
       "      <th>4</th>\n",
       "      <td>28</td>\n",
       "      <td>Private</td>\n",
       "      <td>338409</td>\n",
       "      <td>Bachelors</td>\n",
       "      <td>13</td>\n",
       "      <td>Married-civ-spouse</td>\n",
       "      <td>Prof-specialty</td>\n",
       "      <td>Wife</td>\n",
       "      <td>Black</td>\n",
       "      <td>Female</td>\n",
       "      <td>0</td>\n",
       "      <td>0</td>\n",
       "      <td>40</td>\n",
       "      <td>Cuba</td>\n",
       "      <td>&lt;=50K</td>\n",
       "    </tr>\n",
       "  </tbody>\n",
       "</table>\n",
       "</div>"
      ],
      "text/plain": [
       "   age          workclass  fnlwgt   education  education_num  \\\n",
       "0   39          State-gov   77516   Bachelors             13   \n",
       "1   50   Self-emp-not-inc   83311   Bachelors             13   \n",
       "2   38            Private  215646     HS-grad              9   \n",
       "3   53            Private  234721        11th              7   \n",
       "4   28            Private  338409   Bachelors             13   \n",
       "\n",
       "        marital_status          occupation    relationship    race      sex  \\\n",
       "0        Never-married        Adm-clerical   Not-in-family   White     Male   \n",
       "1   Married-civ-spouse     Exec-managerial         Husband   White     Male   \n",
       "2             Divorced   Handlers-cleaners   Not-in-family   White     Male   \n",
       "3   Married-civ-spouse   Handlers-cleaners         Husband   Black     Male   \n",
       "4   Married-civ-spouse      Prof-specialty            Wife   Black   Female   \n",
       "\n",
       "   capital_gain  capital_loss  hours_per_week  native_country  salary  \n",
       "0          2174             0              40   United-States   <=50K  \n",
       "1             0             0              13   United-States   <=50K  \n",
       "2             0             0              40   United-States   <=50K  \n",
       "3             0             0              40   United-States   <=50K  \n",
       "4             0             0              40            Cuba   <=50K  "
      ]
     },
     "execution_count": 112,
     "metadata": {},
     "output_type": "execute_result"
    }
   ],
   "source": [
    "import copy\n",
    "df = dataset.copy()\n",
    "df.head()"
   ]
  },
  {
   "cell_type": "code",
   "execution_count": null,
   "metadata": {
    "id": "Dc9Wt6yJGsGF"
   },
   "outputs": [
    {
     "name": "stdout",
     "output_type": "stream",
     "text": [
      "['age', 'fnlwgt', 'education_num', 'capital_gain', 'capital_loss', 'hours_per_week']\n"
     ]
    }
   ],
   "source": [
    "##Separando os atributos numéricos dos categóricos, para Z normalizá-los.\n",
    "\n",
    "numerical_categories = list()\n",
    "for coluna in df.columns:\n",
    "  if (df.dtypes[coluna] == 'object'):\n",
    "    continue\n",
    "  else:\n",
    "    numerical_categories.append(coluna)\n",
    "\n",
    "print(numerical_categories)\n"
   ]
  },
  {
   "cell_type": "code",
   "execution_count": null,
   "metadata": {
    "id": "vNS6a1HrILAr"
   },
   "outputs": [],
   "source": [
    "##Separando o conjunto de treino e teste para o ML.\n",
    "\n",
    "from sklearn.model_selection import train_test_split\n",
    "\n",
    "## A coluna salário é guardada na variável y, que será o atributo previsto. A variável x guardará o resto os outros parâmetros que serão usados para prever o salário. \n",
    "## Lembrando que o dataset já veio com um arquivo de teste separado. Ignorar é prudente, pois não é possivel saber se foi retirado do adult_data, ou se corresponde\n",
    "## á um conjunto de dados adicionais. Caso seja a primeira opção, vai avacalhar tudo! :(\n",
    "\n",
    "y = df['salary']\n",
    "x = df.copy()\n",
    "x_train = x.drop('salary', axis=1)\n",
    "x_train, y = balance_data(x_train, y)\n",
    "\n",
    "x_train, x_test, y_train, y_test = train_test_split(x_train, y, test_size = 0.25)"
   ]
  },
  {
   "cell_type": "code",
   "execution_count": null,
   "metadata": {
    "id": "0BDxZCOUI0fe"
   },
   "outputs": [
    {
     "data": {
      "text/html": [
       "<div>\n",
       "<style scoped>\n",
       "    .dataframe tbody tr th:only-of-type {\n",
       "        vertical-align: middle;\n",
       "    }\n",
       "\n",
       "    .dataframe tbody tr th {\n",
       "        vertical-align: top;\n",
       "    }\n",
       "\n",
       "    .dataframe thead th {\n",
       "        text-align: right;\n",
       "    }\n",
       "</style>\n",
       "<table border=\"1\" class=\"dataframe\">\n",
       "  <thead>\n",
       "    <tr style=\"text-align: right;\">\n",
       "      <th></th>\n",
       "      <th>age</th>\n",
       "      <th>workclass</th>\n",
       "      <th>fnlwgt</th>\n",
       "      <th>education</th>\n",
       "      <th>education_num</th>\n",
       "      <th>marital_status</th>\n",
       "      <th>occupation</th>\n",
       "      <th>relationship</th>\n",
       "      <th>race</th>\n",
       "      <th>sex</th>\n",
       "      <th>capital_gain</th>\n",
       "      <th>capital_loss</th>\n",
       "      <th>hours_per_week</th>\n",
       "      <th>native_country</th>\n",
       "    </tr>\n",
       "  </thead>\n",
       "  <tbody>\n",
       "    <tr>\n",
       "      <th>984</th>\n",
       "      <td>1.431100</td>\n",
       "      <td>Private</td>\n",
       "      <td>-0.270012</td>\n",
       "      <td>HS-grad</td>\n",
       "      <td>-0.604913</td>\n",
       "      <td>Married-civ-spouse</td>\n",
       "      <td>Sales</td>\n",
       "      <td>Husband</td>\n",
       "      <td>White</td>\n",
       "      <td>Male</td>\n",
       "      <td>-0.195903</td>\n",
       "      <td>-0.261945</td>\n",
       "      <td>1.458664</td>\n",
       "      <td>United-States</td>\n",
       "    </tr>\n",
       "    <tr>\n",
       "      <th>4517</th>\n",
       "      <td>-0.121211</td>\n",
       "      <td>Private</td>\n",
       "      <td>-0.014707</td>\n",
       "      <td>Some-college</td>\n",
       "      <td>-0.225702</td>\n",
       "      <td>Divorced</td>\n",
       "      <td>Exec-managerial</td>\n",
       "      <td>Not-in-family</td>\n",
       "      <td>White</td>\n",
       "      <td>Female</td>\n",
       "      <td>-0.195903</td>\n",
       "      <td>-0.261945</td>\n",
       "      <td>-0.181740</td>\n",
       "      <td>United-States</td>\n",
       "    </tr>\n",
       "    <tr>\n",
       "      <th>7943</th>\n",
       "      <td>-0.586904</td>\n",
       "      <td>Private</td>\n",
       "      <td>0.187574</td>\n",
       "      <td>Masters</td>\n",
       "      <td>1.291142</td>\n",
       "      <td>Married-civ-spouse</td>\n",
       "      <td>Prof-specialty</td>\n",
       "      <td>Husband</td>\n",
       "      <td>White</td>\n",
       "      <td>Male</td>\n",
       "      <td>-0.195903</td>\n",
       "      <td>-0.261945</td>\n",
       "      <td>0.638462</td>\n",
       "      <td>United-States</td>\n",
       "    </tr>\n",
       "    <tr>\n",
       "      <th>6527</th>\n",
       "      <td>1.586331</td>\n",
       "      <td>Private</td>\n",
       "      <td>-0.114505</td>\n",
       "      <td>HS-grad</td>\n",
       "      <td>-0.604913</td>\n",
       "      <td>Married-civ-spouse</td>\n",
       "      <td>Transport-moving</td>\n",
       "      <td>Husband</td>\n",
       "      <td>White</td>\n",
       "      <td>Male</td>\n",
       "      <td>-0.195903</td>\n",
       "      <td>-0.261945</td>\n",
       "      <td>-0.181740</td>\n",
       "      <td>United-States</td>\n",
       "    </tr>\n",
       "    <tr>\n",
       "      <th>10568</th>\n",
       "      <td>0.499713</td>\n",
       "      <td>Federal-gov</td>\n",
       "      <td>-0.818538</td>\n",
       "      <td>Doctorate</td>\n",
       "      <td>2.049564</td>\n",
       "      <td>Married-civ-spouse</td>\n",
       "      <td>Prof-specialty</td>\n",
       "      <td>Husband</td>\n",
       "      <td>White</td>\n",
       "      <td>Male</td>\n",
       "      <td>-0.195903</td>\n",
       "      <td>-0.261945</td>\n",
       "      <td>-0.181740</td>\n",
       "      <td>United-States</td>\n",
       "    </tr>\n",
       "    <tr>\n",
       "      <th>...</th>\n",
       "      <td>...</td>\n",
       "      <td>...</td>\n",
       "      <td>...</td>\n",
       "      <td>...</td>\n",
       "      <td>...</td>\n",
       "      <td>...</td>\n",
       "      <td>...</td>\n",
       "      <td>...</td>\n",
       "      <td>...</td>\n",
       "      <td>...</td>\n",
       "      <td>...</td>\n",
       "      <td>...</td>\n",
       "      <td>...</td>\n",
       "      <td>...</td>\n",
       "    </tr>\n",
       "    <tr>\n",
       "      <th>6142</th>\n",
       "      <td>-0.586904</td>\n",
       "      <td>Self-emp-inc</td>\n",
       "      <td>0.963640</td>\n",
       "      <td>HS-grad</td>\n",
       "      <td>-0.604913</td>\n",
       "      <td>Never-married</td>\n",
       "      <td>Other-service</td>\n",
       "      <td>Unmarried</td>\n",
       "      <td>Asian-Pac-Islander</td>\n",
       "      <td>Male</td>\n",
       "      <td>-0.195903</td>\n",
       "      <td>-0.261945</td>\n",
       "      <td>-0.181740</td>\n",
       "      <td>Vietnam</td>\n",
       "    </tr>\n",
       "    <tr>\n",
       "      <th>5569</th>\n",
       "      <td>0.810175</td>\n",
       "      <td>Private</td>\n",
       "      <td>-0.693957</td>\n",
       "      <td>HS-grad</td>\n",
       "      <td>-0.604913</td>\n",
       "      <td>Married-civ-spouse</td>\n",
       "      <td>Craft-repair</td>\n",
       "      <td>Husband</td>\n",
       "      <td>White</td>\n",
       "      <td>Male</td>\n",
       "      <td>-0.195903</td>\n",
       "      <td>-0.261945</td>\n",
       "      <td>-0.181740</td>\n",
       "      <td>United-States</td>\n",
       "    </tr>\n",
       "    <tr>\n",
       "      <th>13307</th>\n",
       "      <td>-1.130213</td>\n",
       "      <td>State-gov</td>\n",
       "      <td>-0.446444</td>\n",
       "      <td>Bachelors</td>\n",
       "      <td>0.911931</td>\n",
       "      <td>Married-civ-spouse</td>\n",
       "      <td>Exec-managerial</td>\n",
       "      <td>Husband</td>\n",
       "      <td>Black</td>\n",
       "      <td>Male</td>\n",
       "      <td>-0.195903</td>\n",
       "      <td>-0.261945</td>\n",
       "      <td>-0.181740</td>\n",
       "      <td>United-States</td>\n",
       "    </tr>\n",
       "    <tr>\n",
       "      <th>7473</th>\n",
       "      <td>-1.363060</td>\n",
       "      <td>Private</td>\n",
       "      <td>0.227710</td>\n",
       "      <td>HS-grad</td>\n",
       "      <td>-0.604913</td>\n",
       "      <td>Married-civ-spouse</td>\n",
       "      <td>Machine-op-inspct</td>\n",
       "      <td>Husband</td>\n",
       "      <td>White</td>\n",
       "      <td>Male</td>\n",
       "      <td>-0.195903</td>\n",
       "      <td>-0.261945</td>\n",
       "      <td>0.638462</td>\n",
       "      <td>United-States</td>\n",
       "    </tr>\n",
       "    <tr>\n",
       "      <th>790</th>\n",
       "      <td>0.189251</td>\n",
       "      <td>Self-emp-not-inc</td>\n",
       "      <td>1.212087</td>\n",
       "      <td>Masters</td>\n",
       "      <td>1.291142</td>\n",
       "      <td>Never-married</td>\n",
       "      <td>Exec-managerial</td>\n",
       "      <td>Not-in-family</td>\n",
       "      <td>White</td>\n",
       "      <td>Female</td>\n",
       "      <td>-0.195903</td>\n",
       "      <td>-0.261945</td>\n",
       "      <td>-0.181740</td>\n",
       "      <td>United-States</td>\n",
       "    </tr>\n",
       "  </tbody>\n",
       "</table>\n",
       "<p>3921 rows × 14 columns</p>\n",
       "</div>"
      ],
      "text/plain": [
       "            age          workclass    fnlwgt      education  education_num  \\\n",
       "984    1.431100            Private -0.270012        HS-grad      -0.604913   \n",
       "4517  -0.121211            Private -0.014707   Some-college      -0.225702   \n",
       "7943  -0.586904            Private  0.187574        Masters       1.291142   \n",
       "6527   1.586331            Private -0.114505        HS-grad      -0.604913   \n",
       "10568  0.499713        Federal-gov -0.818538      Doctorate       2.049564   \n",
       "...         ...                ...       ...            ...            ...   \n",
       "6142  -0.586904       Self-emp-inc  0.963640        HS-grad      -0.604913   \n",
       "5569   0.810175            Private -0.693957        HS-grad      -0.604913   \n",
       "13307 -1.130213          State-gov -0.446444      Bachelors       0.911931   \n",
       "7473  -1.363060            Private  0.227710        HS-grad      -0.604913   \n",
       "790    0.189251   Self-emp-not-inc  1.212087        Masters       1.291142   \n",
       "\n",
       "            marital_status          occupation    relationship  \\\n",
       "984     Married-civ-spouse               Sales         Husband   \n",
       "4517              Divorced     Exec-managerial   Not-in-family   \n",
       "7943    Married-civ-spouse      Prof-specialty         Husband   \n",
       "6527    Married-civ-spouse    Transport-moving         Husband   \n",
       "10568   Married-civ-spouse      Prof-specialty         Husband   \n",
       "...                    ...                 ...             ...   \n",
       "6142         Never-married       Other-service       Unmarried   \n",
       "5569    Married-civ-spouse        Craft-repair         Husband   \n",
       "13307   Married-civ-spouse     Exec-managerial         Husband   \n",
       "7473    Married-civ-spouse   Machine-op-inspct         Husband   \n",
       "790          Never-married     Exec-managerial   Not-in-family   \n",
       "\n",
       "                      race      sex  capital_gain  capital_loss  \\\n",
       "984                  White     Male     -0.195903     -0.261945   \n",
       "4517                 White   Female     -0.195903     -0.261945   \n",
       "7943                 White     Male     -0.195903     -0.261945   \n",
       "6527                 White     Male     -0.195903     -0.261945   \n",
       "10568                White     Male     -0.195903     -0.261945   \n",
       "...                    ...      ...           ...           ...   \n",
       "6142    Asian-Pac-Islander     Male     -0.195903     -0.261945   \n",
       "5569                 White     Male     -0.195903     -0.261945   \n",
       "13307                Black     Male     -0.195903     -0.261945   \n",
       "7473                 White     Male     -0.195903     -0.261945   \n",
       "790                  White   Female     -0.195903     -0.261945   \n",
       "\n",
       "       hours_per_week  native_country  \n",
       "984          1.458664   United-States  \n",
       "4517        -0.181740   United-States  \n",
       "7943         0.638462   United-States  \n",
       "6527        -0.181740   United-States  \n",
       "10568       -0.181740   United-States  \n",
       "...               ...             ...  \n",
       "6142        -0.181740         Vietnam  \n",
       "5569        -0.181740   United-States  \n",
       "13307       -0.181740   United-States  \n",
       "7473         0.638462   United-States  \n",
       "790         -0.181740   United-States  \n",
       "\n",
       "[3921 rows x 14 columns]"
      ]
     },
     "execution_count": 116,
     "metadata": {},
     "output_type": "execute_result"
    }
   ],
   "source": [
    "##x_train_Znormalizado\n",
    "\n",
    "# mean_train = x_train[numerical_categories].mean()\n",
    "# std_train = x_train[numerical_categories].std(ddof=1)\n",
    "from scipy import stats\n",
    "\n",
    "x_trn = x_train.copy()\n",
    "x_trn[numerical_categories] -= x_train[numerical_categories].mean()\n",
    "x_trn[numerical_categories] /= x_train[numerical_categories].std(ddof=1)\n",
    "x_trn\n",
    "##x_test_Znormalizado.\n",
    "x_ten = x_test.copy()\n",
    "x_ten[numerical_categories] -= x_train[numerical_categories].mean()\n",
    "x_ten[numerical_categories] /= x_train[numerical_categories].std(ddof=1)\n",
    "x_ten"
   ]
  },
  {
   "cell_type": "code",
   "execution_count": null,
   "metadata": {
    "id": "syQM1ZHblxga"
   },
   "outputs": [],
   "source": [
    "x_ten"
   ]
  },
  {
   "cell_type": "code",
   "execution_count": null,
   "metadata": {
    "id": "334vdAo0NVQ2"
   },
   "outputs": [
    {
     "name": "stdout",
     "output_type": "stream",
     "text": [
      "Droupou aqoccupation_ Armed-Forces\n",
      "106 106\n"
     ]
    }
   ],
   "source": [
    "##Fazendo one-hot-encoding.\n",
    "x_trn = pd.get_dummies(x_trn)\n",
    "x_ten = pd.get_dummies(x_ten)\n",
    "#Removing extra columns\n",
    "a = set()\n",
    "b = set()\n",
    "\n",
    "for item in x_trn.columns:\n",
    "  a.add(item)\n",
    "for item  in x_ten.columns:\n",
    "  b.add(item)\n",
    "\n",
    "c = a-b\n",
    "d = b-a\n",
    "\n",
    "for item in c:\n",
    "    print(f'Droupou aq{item}')\n",
    "    x_trn.drop(item, axis=1,inplace=True)\n",
    "for item in d:\n",
    "    print(item)\n",
    "    x_ten.drop(item, axis=1, inplace=True)\n",
    "\n",
    "print(len(x_trn.columns), len(x_ten.columns))\n"
   ]
  },
  {
   "cell_type": "code",
   "execution_count": null,
   "metadata": {
    "id": "gYn1QybFNy9f"
   },
   "outputs": [
    {
     "name": "stdout",
     "output_type": "stream",
     "text": [
      "1 0.7510839071665392\n",
      "3 0.7775442703155232\n",
      "5 0.7913230156261962\n",
      "7 0.7959171953623123\n",
      "9 0.7997439217534718\n",
      "11 0.8010200826120258\n",
      "13 0.8017855190213241\n",
      "15 0.8033159361180876\n",
      "17 0.8058666962346641\n",
      "1 0.7440831292592436\n",
      "3 0.775189817124811\n",
      "5 0.7905038749533481\n",
      "7 0.788722067315039\n",
      "9 0.8042828372620702\n",
      "11 0.8022459905197097\n",
      "13 0.8032658790792142\n",
      "15 0.8037763433364997\n",
      "17 0.8068376980467695\n",
      "1 0.7540323565556242\n",
      "3 0.7774882735603458\n",
      "5 0.7961167061922347\n",
      "7 0.7979071726291307\n",
      "9 0.8045402824419972\n",
      "11 0.8050521786434801\n",
      "13 0.8032665949435315\n",
      "15 0.8060722618864652\n",
      "17 0.804287263332114\n"
     ]
    }
   ],
   "source": [
    "from sklearn.linear_model import LogisticRegression\n",
    "from sklearn.neighbors import KNeighborsClassifier\n",
    "from sklearn.model_selection import StratifiedKFold\n",
    "#Criar um conjunto de validação.. StratifiedKFold mantém a proporção original de dados do dataset nos folds criados.\n",
    "ns = 3\n",
    "skf = StratifiedKFold(n_splits=ns)\n",
    "tururu = 0\n",
    "for train_i, validation_i in skf.split(x_trn, y_train):\n",
    "  for k in [1, 3, 5, 7, 9, 11, 13, 15, 17]:\n",
    "    #Treinar o KNN\n",
    "    model = KNeighborsClassifier(n_neighbors=k)\n",
    "    model.fit(x_trn.iloc[train_i], y_train.iloc[train_i])\n",
    "    #Usar o KNN para prever, utilizando a parte de validação do conjunto de treino.\n",
    "    predict = model.predict(x_trn.values[validation_i])\n",
    "    original = y_train.values[validation_i]\n",
    "    #Calcular a eficiência do modelo preliminar durante os ajustes dos parâmetros 'k'.\n",
    "    for index in range(len(predict)):\n",
    "      if predict[index] == original[index]:\n",
    "        tururu +=1 \n",
    "    tururu /= len(predict)\n",
    "    print(k, tururu)\n",
    "##13 parece bom."
   ]
  },
  {
   "cell_type": "code",
   "execution_count": null,
   "metadata": {
    "id": "9TdP3yeJZHdT"
   },
   "outputs": [
    {
     "name": "stdout",
     "output_type": "stream",
     "text": [
      "Log:0.7926932880203909\n",
      "KNN:0.8113848768054376\n",
      "Log:0.8205782312925171\n",
      "KNN:0.8044217687074829\n",
      "Log:0.8154761904761905\n",
      "KNN:0.8163265306122449\n",
      "Log:0.8384353741496599\n",
      "KNN:0.8171768707482994\n",
      "Log:0.8256802721088435\n",
      "KNN:0.8239795918367347\n",
      "Log:0.8120748299319728\n",
      "KNN:0.7899659863945578\n",
      "Log:0.8163265306122449\n",
      "KNN:0.7899659863945578\n",
      "Log:0.8222789115646258\n",
      "KNN:0.8044217687074829\n",
      "Log:0.8188775510204082\n",
      "KNN:0.8078231292517006\n",
      "Log:0.8214285714285714\n",
      "KNN:0.810374149659864\n"
     ]
    }
   ],
   "source": [
    "ns = 10\n",
    "k = 13\n",
    "skf = StratifiedKFold(n_splits=ns)\n",
    "for train_i, validation_i in skf.split(x_trn, y_train):\n",
    "    model = KNeighborsClassifier(n_neighbors=k)\n",
    "    model.fit(x_trn.iloc[train_i], y_train.iloc[train_i])\n",
    "    xd2 = model.score(x_trn.values[validation_i], y_train.values[validation_i])\n",
    "    lr = LogisticRegression(max_iter=10000)\n",
    "    lr.fit(x_trn.iloc[train_i], y_train.iloc[train_i])\n",
    "    xd1 =lr.score(x_trn.values[validation_i], y_train.values[validation_i])\n",
    "    print(f\"Log:{xd1}\\nKNN:{xd2}\")"
   ]
  },
  {
   "cell_type": "code",
   "execution_count": null,
   "metadata": {
    "id": "4Bgi2cz21aVq"
   },
   "outputs": [],
   "source": [
    "##Bootstrap\n",
    "from sklearn.metrics import accuracy_score\n",
    "def bootstrap(x, y, model, n=5000):\n",
    "  size = len(x)\n",
    "  values = np.zeros(n)\n",
    "  idx = np.arange(len(y))\n",
    "  for i in range(n):\n",
    "    sample = np.random.choice(idx, size=size, replace=True)\n",
    "    values[i] = model.score(x.values[sample], y.values[sample])\n",
    "  return values"
   ]
  },
  {
   "cell_type": "code",
   "execution_count": null,
   "metadata": {
    "id": "HGj-o9FMkVbR"
   },
   "outputs": [
    {
     "name": "stdout",
     "output_type": "stream",
     "text": [
      "0.8337158888038766\n"
     ]
    }
   ],
   "source": [
    "##LR\n",
    "from sklearn.linear_model import LogisticRegression\n",
    "from scipy.stats import zscore\n",
    "\n",
    "lr = LogisticRegression(max_iter=10000)\n",
    "lr.fit(x_trn, y_train)\n",
    "\n",
    "\n",
    "precisao_final = lr.score(x_ten, y_test)\n",
    "\n",
    "print(precisao_final)\n"
   ]
  },
  {
   "cell_type": "code",
   "execution_count": null,
   "metadata": {},
   "outputs": [
    {
     "name": "stdout",
     "output_type": "stream",
     "text": [
      "0.8337158888038766\n"
     ]
    }
   ],
   "source": [
    "new_df = dataset_2.copy()\n",
    "y_test_2 = dataset_2['salary']\n",
    "x_test_2 = dataset_2.drop(columns='salary', axis=1)\n",
    "x_test_2[numerical_categories] -= x_test_2[numerical_categories].mean()\n",
    "x_test_2[numerical_categories] /= x_test_2[numerical_categories].std(ddof=1)\n",
    "x_test_2 = pd.get_dummies(x_test_2)\n",
    "x_test_2.drop(columns='native_country_ Holand-Netherlands', inplace=True, axis=1)\n",
    "precisao_final = lr.score(x_ten, y_test)\n",
    "\n",
    "print(precisao_final)\n"
   ]
  },
  {
   "cell_type": "code",
   "execution_count": null,
   "metadata": {
    "id": "kyzWHRyXoVaY"
   },
   "outputs": [
    {
     "name": "stdout",
     "output_type": "stream",
     "text": [
      "[0.83805152 0.8324407  0.83856159 ... 0.84213211 0.82606478 0.83626626]\n"
     ]
    }
   ],
   "source": [
    "boots = bootstrap(x_ten, y_test, lr)\n",
    "print(boots)"
   ]
  },
  {
   "cell_type": "code",
   "execution_count": null,
   "metadata": {
    "id": "HZ_vRrNhzIHp"
   },
   "outputs": [
    {
     "name": "stdout",
     "output_type": "stream",
     "text": [
      "O intervalo de confiança da regressão logística é: [0.8237694465697526, 0.8434072940576384]\n"
     ]
    }
   ],
   "source": [
    "LL = np.percentile(boots, 5)\n",
    "RL = np.percentile(boots,95)\n",
    "print(f\"O intervalo de confiança da regressão logística é: [{LL}, {RL}]\")\n"
   ]
  },
  {
   "cell_type": "code",
   "execution_count": null,
   "metadata": {},
   "outputs": [],
   "source": [
    "##Resposta das perguntas\n",
    "#A tecnica de ML completa tem aproximadamente 85.05% de precisão, com 95% de IC  [0.8497727551897801, 0.8623019285100111]\n",
    "\n",
    "\n",
    "##Com atributos imutáveis, a precisão do modelo é de 75.55%, com 95% de IC \n",
    "\n",
    "##Tudo - atributos imutáveis, a precisão do modelo é 85% , com 95% de IC [0.843631003562216, 0.8564058469475494]"
   ]
  },
  {
   "cell_type": "code",
   "execution_count": null,
   "metadata": {},
   "outputs": [
    {
     "data": {
      "text/html": [
       "<div>\n",
       "<style scoped>\n",
       "    .dataframe tbody tr th:only-of-type {\n",
       "        vertical-align: middle;\n",
       "    }\n",
       "\n",
       "    .dataframe tbody tr th {\n",
       "        vertical-align: top;\n",
       "    }\n",
       "\n",
       "    .dataframe thead th {\n",
       "        text-align: right;\n",
       "    }\n",
       "</style>\n",
       "<table border=\"1\" class=\"dataframe\">\n",
       "  <thead>\n",
       "    <tr style=\"text-align: right;\">\n",
       "      <th></th>\n",
       "      <th>age</th>\n",
       "      <th>workclass</th>\n",
       "      <th>fnlwgt</th>\n",
       "      <th>education</th>\n",
       "      <th>education_num</th>\n",
       "      <th>marital_status</th>\n",
       "      <th>occupation</th>\n",
       "      <th>relationship</th>\n",
       "      <th>race</th>\n",
       "      <th>sex</th>\n",
       "      <th>capital_gain</th>\n",
       "      <th>capital_loss</th>\n",
       "      <th>hours_per_week</th>\n",
       "      <th>native_country</th>\n",
       "      <th>salary</th>\n",
       "    </tr>\n",
       "  </thead>\n",
       "  <tbody>\n",
       "    <tr>\n",
       "      <th>0</th>\n",
       "      <td>39</td>\n",
       "      <td>State-gov</td>\n",
       "      <td>77516</td>\n",
       "      <td>Bachelors</td>\n",
       "      <td>13</td>\n",
       "      <td>Never-married</td>\n",
       "      <td>Adm-clerical</td>\n",
       "      <td>Not-in-family</td>\n",
       "      <td>White</td>\n",
       "      <td>Male</td>\n",
       "      <td>2174</td>\n",
       "      <td>0</td>\n",
       "      <td>40</td>\n",
       "      <td>United-States</td>\n",
       "      <td>&lt;=50K</td>\n",
       "    </tr>\n",
       "    <tr>\n",
       "      <th>1</th>\n",
       "      <td>50</td>\n",
       "      <td>Self-emp-not-inc</td>\n",
       "      <td>83311</td>\n",
       "      <td>Bachelors</td>\n",
       "      <td>13</td>\n",
       "      <td>Married-civ-spouse</td>\n",
       "      <td>Exec-managerial</td>\n",
       "      <td>Husband</td>\n",
       "      <td>White</td>\n",
       "      <td>Male</td>\n",
       "      <td>0</td>\n",
       "      <td>0</td>\n",
       "      <td>13</td>\n",
       "      <td>United-States</td>\n",
       "      <td>&lt;=50K</td>\n",
       "    </tr>\n",
       "    <tr>\n",
       "      <th>2</th>\n",
       "      <td>38</td>\n",
       "      <td>Private</td>\n",
       "      <td>215646</td>\n",
       "      <td>HS-grad</td>\n",
       "      <td>9</td>\n",
       "      <td>Divorced</td>\n",
       "      <td>Handlers-cleaners</td>\n",
       "      <td>Not-in-family</td>\n",
       "      <td>White</td>\n",
       "      <td>Male</td>\n",
       "      <td>0</td>\n",
       "      <td>0</td>\n",
       "      <td>40</td>\n",
       "      <td>United-States</td>\n",
       "      <td>&lt;=50K</td>\n",
       "    </tr>\n",
       "    <tr>\n",
       "      <th>3</th>\n",
       "      <td>53</td>\n",
       "      <td>Private</td>\n",
       "      <td>234721</td>\n",
       "      <td>11th</td>\n",
       "      <td>7</td>\n",
       "      <td>Married-civ-spouse</td>\n",
       "      <td>Handlers-cleaners</td>\n",
       "      <td>Husband</td>\n",
       "      <td>Black</td>\n",
       "      <td>Male</td>\n",
       "      <td>0</td>\n",
       "      <td>0</td>\n",
       "      <td>40</td>\n",
       "      <td>United-States</td>\n",
       "      <td>&lt;=50K</td>\n",
       "    </tr>\n",
       "    <tr>\n",
       "      <th>4</th>\n",
       "      <td>28</td>\n",
       "      <td>Private</td>\n",
       "      <td>338409</td>\n",
       "      <td>Bachelors</td>\n",
       "      <td>13</td>\n",
       "      <td>Married-civ-spouse</td>\n",
       "      <td>Prof-specialty</td>\n",
       "      <td>Wife</td>\n",
       "      <td>Black</td>\n",
       "      <td>Female</td>\n",
       "      <td>0</td>\n",
       "      <td>0</td>\n",
       "      <td>40</td>\n",
       "      <td>Cuba</td>\n",
       "      <td>&lt;=50K</td>\n",
       "    </tr>\n",
       "  </tbody>\n",
       "</table>\n",
       "</div>"
      ],
      "text/plain": [
       "   age          workclass  fnlwgt   education  education_num  \\\n",
       "0   39          State-gov   77516   Bachelors             13   \n",
       "1   50   Self-emp-not-inc   83311   Bachelors             13   \n",
       "2   38            Private  215646     HS-grad              9   \n",
       "3   53            Private  234721        11th              7   \n",
       "4   28            Private  338409   Bachelors             13   \n",
       "\n",
       "        marital_status          occupation    relationship    race      sex  \\\n",
       "0        Never-married        Adm-clerical   Not-in-family   White     Male   \n",
       "1   Married-civ-spouse     Exec-managerial         Husband   White     Male   \n",
       "2             Divorced   Handlers-cleaners   Not-in-family   White     Male   \n",
       "3   Married-civ-spouse   Handlers-cleaners         Husband   Black     Male   \n",
       "4   Married-civ-spouse      Prof-specialty            Wife   Black   Female   \n",
       "\n",
       "   capital_gain  capital_loss  hours_per_week  native_country  salary  \n",
       "0          2174             0              40   United-States   <=50K  \n",
       "1             0             0              13   United-States   <=50K  \n",
       "2             0             0              40   United-States   <=50K  \n",
       "3             0             0              40   United-States   <=50K  \n",
       "4             0             0              40            Cuba   <=50K  "
      ]
     },
     "execution_count": 126,
     "metadata": {},
     "output_type": "execute_result"
    }
   ],
   "source": [
    "df = dataset.copy()\n",
    "df.head()"
   ]
  },
  {
   "cell_type": "code",
   "execution_count": null,
   "metadata": {},
   "outputs": [
    {
     "name": "stdout",
     "output_type": "stream",
     "text": [
      "Droupou aqnative_country_ Honduras\n",
      "Droupou aqnative_country_ Hungary\n",
      "47 47\n"
     ]
    }
   ],
   "source": [
    "x = df.drop(columns=['workclass', 'fnlwgt', 'education', 'education_num', 'marital_status', 'occupation', 'relationship', 'capital_gain', 'capital_loss', 'hours_per_week'], axis=1)\n",
    "y = x['salary'].copy()\n",
    "x.drop(columns='salary', axis=1, inplace=True)\n",
    "x, y = balance_data(x, y)\n",
    "\n",
    "x_train, x_test, y_train, y_test = train_test_split(x, y, test_size = 0.25)\n",
    "\n",
    "\n",
    "numerical_categories = list()\n",
    "for coluna in x.columns:\n",
    "  if (x.dtypes[coluna] == 'object'):\n",
    "    continue\n",
    "  else:\n",
    "    numerical_categories.append(coluna)\n",
    "\n",
    "x_trn = x_train.copy()\n",
    "x_trn[numerical_categories] -= x_train[numerical_categories].mean()\n",
    "x_trn[numerical_categories] /= x_train[numerical_categories].std(ddof=1)\n",
    "##x_test_Znormalizado.\n",
    "x_ten = x_test.copy()\n",
    "x_ten[numerical_categories] -= x_train[numerical_categories].mean()\n",
    "x_ten[numerical_categories] /= x_train[numerical_categories].std(ddof=1)\n",
    "\n",
    "\n",
    "x_trn = pd.get_dummies(x_trn)\n",
    "x_ten = pd.get_dummies(x_ten)\n",
    "#Removing extra columns\n",
    "a = set()\n",
    "b = set()\n",
    "\n",
    "for item in x_trn.columns:\n",
    "  a.add(item)\n",
    "for item  in x_ten.columns:\n",
    "  b.add(item)\n",
    "\n",
    "c = a-b\n",
    "d = b-a\n",
    "\n",
    "for item in c:\n",
    "    print(f'Droupou aq{item}')\n",
    "    x_trn.drop(item, axis=1,inplace=True)\n",
    "for item in d:\n",
    "    print(item)\n",
    "    x_ten.drop(item, axis=1, inplace=True)\n",
    "\n",
    "print(len(x_trn.columns), len(x_ten.columns))\n"
   ]
  },
  {
   "cell_type": "code",
   "execution_count": null,
   "metadata": {},
   "outputs": [
    {
     "name": "stdout",
     "output_type": "stream",
     "text": [
      "Log:0.7255734919286321\n",
      "KNN:0.6881903143585386\n",
      "Log:0.66921768707483\n",
      "KNN:0.6581632653061225\n",
      "Log:0.6777210884353742\n",
      "KNN:0.6717687074829932\n",
      "Log:0.6887755102040817\n",
      "KNN:0.6879251700680272\n",
      "Log:0.7083333333333334\n",
      "KNN:0.6819727891156463\n",
      "Log:0.6981292517006803\n",
      "KNN:0.701530612244898\n",
      "Log:0.6777210884353742\n",
      "KNN:0.6972789115646258\n",
      "Log:0.6947278911564626\n",
      "KNN:0.6870748299319728\n",
      "Log:0.685374149659864\n",
      "KNN:0.7032312925170068\n",
      "Log:0.6726190476190477\n",
      "KNN:0.6700680272108843\n"
     ]
    }
   ],
   "source": [
    "ns = 10\n",
    "k = 13\n",
    "skf = StratifiedKFold(n_splits=ns)\n",
    "for train_i, validation_i in skf.split(x_trn, y_train):\n",
    "    model = KNeighborsClassifier(n_neighbors=k)\n",
    "    model.fit(x_trn.iloc[train_i], y_train.iloc[train_i])\n",
    "    xd2 = model.score(x_trn.values[validation_i], y_train.values[validation_i])\n",
    "    lr = LogisticRegression(max_iter=10000)\n",
    "    lr.fit(x_trn.iloc[train_i], y_train.iloc[train_i])\n",
    "    xd1 =lr.score(x_trn.values[validation_i], y_train.values[validation_i])\n",
    "    print(f\"Log:{xd1}\\nKNN:{xd2}\")\n",
    "#KNN"
   ]
  },
  {
   "cell_type": "code",
   "execution_count": null,
   "metadata": {},
   "outputs": [
    {
     "name": "stdout",
     "output_type": "stream",
     "text": [
      "0.6931905126243305\n"
     ]
    }
   ],
   "source": [
    "model = KNeighborsClassifier(n_neighbors=k)\n",
    "model.fit(x_trn, y_train)\n",
    "\n",
    "precisao_final = model.score(x_ten, y_test)\n",
    "\n",
    "print(precisao_final)"
   ]
  },
  {
   "cell_type": "code",
   "execution_count": null,
   "metadata": {},
   "outputs": [],
   "source": [
    "boots = bootstrap(x_ten, y_test, model)\n",
    "print(boots)"
   ]
  },
  {
   "cell_type": "code",
   "execution_count": null,
   "metadata": {},
   "outputs": [],
   "source": [
    "LL = np.percentile(boots, 5)\n",
    "RL = np.percentile(boots,95)\n",
    "print(f\"O intervalo de confiança da regressão logística é: [{LL}, {RL}]\")"
   ]
  },
  {
   "cell_type": "code",
   "execution_count": null,
   "metadata": {},
   "outputs": [],
   "source": [
    "x = df.drop(columns=['age', 'sex', 'native_country', 'race'], axis=1)\n",
    "y = x['salary'].copy()\n",
    "x.drop(columns='salary', axis=1, inplace=True)\n",
    "x, y = balance_data(x, y)\n",
    "\n",
    "x_train, x_test, y_train, y_test = train_test_split(x, y, test_size = 0.25)\n",
    "\n",
    "numerical_categories = list()\n",
    "for coluna in x.columns:\n",
    "  if (x.dtypes[coluna] == 'object'):\n",
    "    continue\n",
    "  else:\n",
    "    numerical_categories.append(coluna)\n",
    "\n",
    "x_trn = x_train.copy()\n",
    "x_trn[numerical_categories] -= x_train[numerical_categories].mean()\n",
    "x_trn[numerical_categories] /= x_train[numerical_categories].std(ddof=1)\n",
    "##x_test_Znormalizado.\n",
    "x_ten = x_test.copy()\n",
    "x_ten[numerical_categories] -= x_train[numerical_categories].mean()\n",
    "x_ten[numerical_categories] /= x_train[numerical_categories].std(ddof=1)\n",
    "\n",
    "\n",
    "x_trn = pd.get_dummies(x_trn)\n",
    "x_ten = pd.get_dummies(x_ten)\n",
    "#Removing extra columns\n",
    "a = set()\n",
    "b = set()\n",
    "\n",
    "for item in x_trn.columns:\n",
    "  a.add(item)\n",
    "for item  in x_ten.columns:\n",
    "  b.add(item)\n",
    "\n",
    "c = a-b\n",
    "d = b-a\n",
    "\n",
    "for item in c:\n",
    "    print(f'Droupou aq{item}')\n",
    "    x_trn.drop(item, axis=1,inplace=True)\n",
    "for item in d:\n",
    "    print(item)\n",
    "    x_ten.drop(item, axis=1, inplace=True)\n",
    "\n",
    "print(len(x_trn.columns), len(x_ten.columns))\n"
   ]
  },
  {
   "cell_type": "code",
   "execution_count": null,
   "metadata": {},
   "outputs": [],
   "source": [
    "ns = 10\n",
    "k = 13\n",
    "skf = StratifiedKFold(n_splits=ns)\n",
    "for train_i, validation_i in skf.split(x_trn, y_train):\n",
    "    model = KNeighborsClassifier(n_neighbors=k)\n",
    "    model.fit(x_trn.iloc[train_i], y_train.iloc[train_i])\n",
    "    xd2 = model.score(x_trn.values[validation_i], y_train.values[validation_i])\n",
    "    lr = LogisticRegression(max_iter=10000)\n",
    "    lr.fit(x_trn.iloc[train_i], y_train.iloc[train_i])\n",
    "    xd1 =lr.score(x_trn.values[validation_i], y_train.values[validation_i])\n",
    "    print(f\"Log:{xd1}\\nKNN:{xd2}\")\n",
    "#KNN"
   ]
  },
  {
   "cell_type": "code",
   "execution_count": null,
   "metadata": {},
   "outputs": [
    {
     "name": "stdout",
     "output_type": "stream",
     "text": [
      "0.8500184252548827\n"
     ]
    }
   ],
   "source": [
    "lr = LogisticRegression(max_iter=10000)\n",
    "lr.fit(x_trn, y_train)\n",
    "\n",
    "\n",
    "precisao_final = lr.score(x_ten, y_test)\n",
    "\n",
    "print(precisao_final)\n"
   ]
  },
  {
   "cell_type": "code",
   "execution_count": null,
   "metadata": {},
   "outputs": [],
   "source": [
    "boots = bootstrap(x_ten, y_test, lr)\n",
    "print(boots)"
   ]
  },
  {
   "cell_type": "code",
   "execution_count": null,
   "metadata": {},
   "outputs": [],
   "source": [
    "LL = np.percentile(boots, 5)\n",
    "RL = np.percentile(boots,95)\n",
    "print(f\"O intervalo de confiança da regressão logística é: [{LL}, {RL}]\")"
   ]
  },
  {
   "cell_type": "code",
   "execution_count": null,
   "metadata": {},
   "outputs": [
    {
     "data": {
      "text/plain": [
       "0         <=50K\n",
       "1         <=50K\n",
       "2         <=50K\n",
       "3         <=50K\n",
       "4         <=50K\n",
       "          ...  \n",
       "15677      >50K\n",
       "15678      >50K\n",
       "15679      >50K\n",
       "15680      >50K\n",
       "15681      >50K\n",
       "Name: salary, Length: 15682, dtype: object"
      ]
     },
     "execution_count": 109,
     "metadata": {},
     "output_type": "execute_result"
    }
   ],
   "source": [
    "\n",
    "x = df.drop(columns=['race', 'sex','age', 'native_country','workclass', 'fnlwgt', 'education_num', 'marital_status', 'occupation', 'relationship', 'capital_gain', 'capital_loss', 'salary', 'hours_per_week' ], axis=1)\n",
    "y = df['salary'].copy()\n",
    "x, y = balance_data(x, y)\n",
    "\n",
    "\n",
    "y"
   ]
  },
  {
   "cell_type": "code",
   "execution_count": null,
   "metadata": {},
   "outputs": [
    {
     "name": "stdout",
     "output_type": "stream",
     "text": [
      "16 16\n"
     ]
    }
   ],
   "source": [
    "\n",
    "\n",
    "x_train, x_test, y_train, y_test = train_test_split(x, y, test_size = 0.25)\n",
    "##Ed - sex // \n",
    "numerical_categories = list()\n",
    "for coluna in x.columns:\n",
    "  if (x.dtypes[coluna] == 'object'):\n",
    "    continue\n",
    "  else:\n",
    "    numerical_categories.append(coluna)\n",
    "\n",
    "x_trn = x_train.copy()\n",
    "x_trn[numerical_categories] -= x_train[numerical_categories].mean()\n",
    "x_trn[numerical_categories] /= x_train[numerical_categories].std(ddof=1)\n",
    "##x_test_Znormalizado.\n",
    "x_ten = x_test.copy()\n",
    "x_ten[numerical_categories] -= x_train[numerical_categories].mean()\n",
    "x_ten[numerical_categories] /= x_train[numerical_categories].std(ddof=1)\n",
    "\n",
    "x_trn = pd.get_dummies(x_trn)\n",
    "x_ten = pd.get_dummies(x_ten)\n",
    "#Removing extra columns\n",
    "a = set()\n",
    "b = set()\n",
    "\n",
    "for item in x_trn.columns:\n",
    "  a.add(item)\n",
    "for item  in x_ten.columns:\n",
    "  b.add(item)\n",
    "\n",
    "c = a-b\n",
    "d = b-a\n",
    "\n",
    "for item in c:\n",
    "    print(f'Droupou aq{item}')\n",
    "    x_trn.drop(item, axis=1,inplace=True)\n",
    "for item in d:\n",
    "    print(item)\n",
    "    x_ten.drop(item, axis=1, inplace=True)\n",
    "\n",
    "print(len(x_trn.columns), len(x_ten.columns))\n",
    "\n"
   ]
  },
  {
   "cell_type": "code",
   "execution_count": null,
   "metadata": {},
   "outputs": [
    {
     "name": "stdout",
     "output_type": "stream",
     "text": [
      "0.6651364447844937\n"
     ]
    }
   ],
   "source": [
    "model = KNeighborsClassifier(n_neighbors=k)\n",
    "model.fit(x_trn, y_train)\n",
    "\n",
    "precisao_final = model.score(x_ten, y_test)\n",
    "\n",
    "print(precisao_final)"
   ]
  },
  {
   "cell_type": "code",
   "execution_count": null,
   "metadata": {},
   "outputs": [],
   "source": []
  }
 ],
 "metadata": {
  "colab": {
   "collapsed_sections": [
    "OG3UdkFkblVc"
   ],
   "name": "Teste de hipótese.ipynb",
   "provenance": []
  },
  "kernelspec": {
   "display_name": "Python 3.9.6 64-bit ('icd': conda)",
   "name": "python396jvsc74a57bd074c9630bfed5d3707de09a122d4da1f9d7ce83bdf7f5cb368945644e51ea2434"
  },
  "language_info": {
   "codemirror_mode": {
    "name": "ipython",
    "version": 3
   },
   "file_extension": ".py",
   "mimetype": "text/x-python",
   "name": "python",
   "nbconvert_exporter": "python",
   "pygments_lexer": "ipython3",
   "version": "3.9.6"
  }
 },
 "nbformat": 4,
 "nbformat_minor": 4
}